{
 "cells": [
  {
   "cell_type": "code",
   "execution_count": 1,
   "metadata": {
    "collapsed": true
   },
   "outputs": [],
   "source": [
    "import pandas as pd\n",
    "import numpy as np\n",
    "import matplotlib.pyplot as plt\n",
    "%matplotlib inline\n",
    "from scipy.stats import pearsonr"
   ]
  },
  {
   "cell_type": "code",
   "execution_count": 2,
   "metadata": {
    "collapsed": true
   },
   "outputs": [],
   "source": []
  },
  {
   "cell_type": "code",
   "execution_count": 3,
   "metadata": {
    "collapsed": false
   },
   "outputs": [],
   "source": [
    "xx=[]\n",
    "cmap={}\n",
    "for i in train.columns.values:\n",
    "    xx.append(abs(pearsonr(train[i],train.Response)[0]))\n",
    "    cmap[i]=abs(pearsonr(train[i],train.Response)[0])"
   ]
  },
  {
   "cell_type": "code",
   "execution_count": 4,
   "metadata": {
    "collapsed": false
   },
   "outputs": [],
   "source": [
    "corr=pd.DataFrame({'feature':train.columns.values,'corr':xx})"
   ]
  },
  {
   "cell_type": "code",
   "execution_count": 5,
   "metadata": {
    "collapsed": false
   },
   "outputs": [
    {
     "name": "stdout",
     "output_type": "stream",
     "text": [
      "(128, 2) (108, 2)\n"
     ]
    }
   ],
   "source": [
    "print corr.shape,corr[corr['corr']>0.01].shape"
   ]
  },
  {
   "cell_type": "code",
   "execution_count": 6,
   "metadata": {
    "collapsed": false
   },
   "outputs": [
    {
     "name": "stdout",
     "output_type": "stream",
     "text": [
      "2 11 Product_Info_3 Employment_Info_2 0.113553623451 0.0674323001352 0.0788565511906\n",
      "2 34 Product_Info_3 Family_Hist_4 0.12484644321 0.0674323001352 0.110825854466\n",
      "3 6 Product_Info_4 Ins_Age 0.256254708428 0.202434033698 0.209609841655\n",
      "3 7 Product_Info_4 Ht 0.22764338988 0.202434033698 0.0935762444563\n",
      "3 24 Product_Info_4 Insurance_History_2 0.224683100302 0.202434033698 0.122195767071\n",
      "3 65 Product_Info_4 Medical_History_30 0.225967795976 0.202434033698 0.114870466736\n",
      "3 79 Product_Info_4 Medical_Keyword_3 0.303831305256 0.202434033698 0.25770596011\n",
      "3 91 Product_Info_4 Medical_Keyword_15 0.306399430594 0.202434033698 0.259168855555\n",
      "3 124 Product_Info_4 Medical_Keyword_48 0.253942119147 0.202434033698 0.159556636485\n",
      "7 39 Ins_Age Medical_History_4 0.291944660597 0.209609841655 0.239895549466\n",
      "7 74 Ins_Age Medical_History_39 0.263783218036 0.209609841655 0.22017593863\n",
      "7 75 Ins_Age Medical_History_40 0.232289800381 0.209609841655 0.131518604359\n",
      "8 52 Ht Medical_History_17 0.107560131885 0.0935762444563 0.0736331760181\n",
      "8 55 Ht Medical_History_20 0.117758299018 0.0935762444563 0.077327411451\n",
      "8 62 Ht Medical_History_27 0.111637471536 0.0935762444563 0.0845952349846\n",
      "8 75 Ht Medical_History_40 0.150294187833 0.0935762444563 0.131518604359\n",
      "13 14 Employment_Info_3 Employment_Info_5 0.147285177114 0.116408125379 0.0546731119643\n",
      "13 16 Employment_Info_3 InsuredInfo_1 0.140733507358 0.116408125379 0.0837292825074\n",
      "13 21 Employment_Info_3 InsuredInfo_6 0.183651480896 0.116408125379 0.130475934346\n",
      "13 31 Employment_Info_3 Family_Hist_1 0.134803919945 0.116408125379 0.0721065795183\n",
      "13 41 Employment_Info_3 Medical_History_6 0.181095088107 0.116408125379 0.159230022306\n",
      "13 44 Employment_Info_3 Medical_History_9 0.130859523814 0.116408125379 0.0672357610466\n",
      "13 48 Employment_Info_3 Medical_History_13 0.170418405986 0.116408125379 0.13486342825\n",
      "13 62 Employment_Info_3 Medical_History_27 0.133014678811 0.116408125379 0.0845952349846\n",
      "13 64 Employment_Info_3 Medical_History_29 0.129020629495 0.116408125379 0.0780888693863\n",
      "13 68 Employment_Info_3 Medical_History_33 0.164307058669 0.116408125379 0.113111911437\n",
      "13 75 Employment_Info_3 Medical_History_40 0.153807076457 0.116408125379 0.131518604359\n",
      "17 20 InsuredInfo_1 InsuredInfo_5 0.118364745757 0.0837292825074 0.0962586798341\n",
      "17 22 InsuredInfo_1 InsuredInfo_7 0.120576845431 0.0837292825074 0.0939270365004\n",
      "17 24 InsuredInfo_1 Insurance_History_2 0.138307480956 0.0837292825074 0.122195767071\n",
      "17 47 InsuredInfo_1 Medical_History_12 0.104149771157 0.0837292825074 0.0679200747056\n",
      "17 51 InsuredInfo_1 Medical_History_16 0.152924896649 0.0837292825074 0.137541553857\n",
      "17 53 InsuredInfo_1 Medical_History_18 0.113642709284 0.0837292825074 0.0908244855891\n",
      "17 63 InsuredInfo_1 Medical_History_28 0.117217159204 0.0837292825074 0.0928838576851\n",
      "17 77 InsuredInfo_1 Medical_Keyword_1 0.111412642558 0.0837292825074 0.0892329332297\n",
      "17 99 InsuredInfo_1 Medical_Keyword_23 0.126873287057 0.0837292825074 0.113580450657\n",
      "17 100 InsuredInfo_1 Medical_Keyword_24 0.100946792815 0.0837292825074 0.0720693752206\n",
      "17 101 InsuredInfo_1 Medical_Keyword_25 0.12397077238 0.0837292825074 0.102022672014\n",
      "17 113 InsuredInfo_1 Medical_Keyword_37 0.110591191819 0.0837292825074 0.0805884047724\n",
      "17 116 InsuredInfo_1 Medical_Keyword_40 0.106689110097 0.0837292825074 0.0771593949839\n",
      "17 118 InsuredInfo_1 Medical_Keyword_42 0.113209472433 0.0837292825074 0.0936730515721\n",
      "18 52 InsuredInfo_2 Medical_History_17 0.1040254181 0.0807825637436 0.0736331760181\n",
      "18 55 InsuredInfo_2 Medical_History_20 0.109913635952 0.0807825637436 0.077327411451\n",
      "18 62 InsuredInfo_2 Medical_History_27 0.109885245668 0.0807825637436 0.0845952349846\n",
      "21 21 InsuredInfo_5 InsuredInfo_6 0.155950665113 0.0962586798341 0.130475934346\n",
      "21 31 InsuredInfo_5 Family_Hist_1 0.107032406832 0.0962586798341 0.0721065795183\n",
      "21 41 InsuredInfo_5 Medical_History_6 0.186490506582 0.0962586798341 0.159230022306\n",
      "21 48 InsuredInfo_5 Medical_History_13 0.15849621979 0.0962586798341 0.13486342825\n",
      "21 52 InsuredInfo_5 Medical_History_17 0.120439632076 0.0962586798341 0.0736331760181\n",
      "21 55 InsuredInfo_5 Medical_History_20 0.121518015205 0.0962586798341 0.077327411451\n",
      "21 57 InsuredInfo_5 Medical_History_22 0.10704281413 0.0962586798341 0.0479057029117\n",
      "21 62 InsuredInfo_5 Medical_History_27 0.128133847367 0.0962586798341 0.0845952349846\n",
      "21 68 InsuredInfo_5 Medical_History_33 0.135937484695 0.0962586798341 0.113111911437\n",
      "21 74 InsuredInfo_5 Medical_History_39 0.242256703846 0.0962586798341 0.22017593863\n",
      "21 75 InsuredInfo_5 Medical_History_40 0.150210287675 0.0962586798341 0.131518604359\n",
      "22 22 InsuredInfo_6 InsuredInfo_7 0.157268771254 0.130475934346 0.0939270365004\n",
      "22 24 InsuredInfo_6 Insurance_History_2 0.173740675074 0.130475934346 0.122195767071\n",
      "22 47 InsuredInfo_6 Medical_History_12 0.146447204002 0.130475934346 0.0679200747056\n",
      "22 51 InsuredInfo_6 Medical_History_16 0.183417245202 0.130475934346 0.137541553857\n",
      "22 53 InsuredInfo_6 Medical_History_18 0.157929597313 0.130475934346 0.0908244855891\n",
      "22 63 InsuredInfo_6 Medical_History_28 0.162369566664 0.130475934346 0.0928838576851\n",
      "22 65 InsuredInfo_6 Medical_History_30 0.163377235319 0.130475934346 0.114870466736\n",
      "22 77 InsuredInfo_6 Medical_Keyword_1 0.155904654183 0.130475934346 0.0892329332297\n",
      "22 99 InsuredInfo_6 Medical_Keyword_23 0.161855597125 0.130475934346 0.113580450657\n",
      "22 101 InsuredInfo_6 Medical_Keyword_25 0.159846359627 0.130475934346 0.102022672014\n",
      "22 113 InsuredInfo_6 Medical_Keyword_37 0.153929681209 0.130475934346 0.0805884047724\n",
      "22 116 InsuredInfo_6 Medical_Keyword_40 0.15495710101 0.130475934346 0.0771593949839\n",
      "22 118 InsuredInfo_6 Medical_Keyword_42 0.161426291497 0.130475934346 0.0936730515721\n",
      "22 124 InsuredInfo_6 Medical_Keyword_48 0.177781462896 0.130475934346 0.159556636485\n",
      "23 31 InsuredInfo_7 Family_Hist_1 0.1097821824 0.0939270365004 0.0721065795183\n",
      "23 41 InsuredInfo_7 Medical_History_6 0.185967093568 0.0939270365004 0.159230022306\n",
      "23 44 InsuredInfo_7 Medical_History_9 0.108537910943 0.0939270365004 0.0672357610466\n",
      "23 48 InsuredInfo_7 Medical_History_13 0.16061684202 0.0939270365004 0.13486342825\n",
      "23 52 InsuredInfo_7 Medical_History_17 0.117218679081 0.0939270365004 0.0736331760181\n",
      "23 55 InsuredInfo_7 Medical_History_20 0.11742294761 0.0939270365004 0.077327411451\n",
      "23 57 InsuredInfo_7 Medical_History_22 0.105308713717 0.0939270365004 0.0479057029117\n",
      "23 62 InsuredInfo_7 Medical_History_27 0.125816413757 0.0939270365004 0.0845952349846\n",
      "23 64 InsuredInfo_7 Medical_History_29 0.104259793172 0.0939270365004 0.0780888693863\n",
      "23 66 InsuredInfo_7 Medical_History_31 0.104030101778 0.0939270365004 0.0469124459472\n",
      "23 68 InsuredInfo_7 Medical_History_33 0.139281465392 0.0939270365004 0.113111911437\n",
      "23 75 InsuredInfo_7 Medical_History_40 0.149335446091 0.0939270365004 0.131518604359\n",
      "25 41 Insurance_History_2 Medical_History_6 0.195541740971 0.122195767071 0.159230022306\n",
      "25 48 Insurance_History_2 Medical_History_13 0.172126533732 0.122195767071 0.13486342825\n",
      "25 52 Insurance_History_2 Medical_History_17 0.139874131338 0.122195767071 0.0736331760181\n",
      "25 55 Insurance_History_2 Medical_History_20 0.140581880189 0.122195767071 0.077327411451\n",
      "25 62 Insurance_History_2 Medical_History_27 0.146017336364 0.122195767071 0.0845952349846\n",
      "25 68 Insurance_History_2 Medical_History_33 0.155323898862 0.122195767071 0.113111911437\n",
      "25 74 Insurance_History_2 Medical_History_39 0.246767358961 0.122195767071 0.22017593863\n",
      "25 75 Insurance_History_2 Medical_History_40 0.17206971552 0.122195767071 0.131518604359\n",
      "32 53 Family_Hist_1 Medical_History_18 0.101995972233 0.0721065795183 0.0908244855891\n",
      "32 63 Family_Hist_1 Medical_History_28 0.105558354338 0.0721065795183 0.0928838576851\n",
      "33 35 Family_Hist_2 Family_Hist_5 0.185011225108 0.141687817891 0.15941852772\n",
      "34 34 Family_Hist_3 Family_Hist_4 0.168043643471 0.14189835761 0.110825854466\n",
      "35 50 Family_Hist_4 Medical_History_15 0.143502105799 0.110825854466 0.119052668406\n",
      "40 79 Medical_History_4 Medical_Keyword_3 0.321538838737 0.239895549466 0.25770596011\n",
      "40 91 Medical_History_4 Medical_Keyword_15 0.337632148936 0.239895549466 0.259168855555\n",
      "40 124 Medical_History_4 Medical_Keyword_48 0.278131923534 0.239895549466 0.159556636485\n",
      "41 55 Medical_History_5 Medical_History_20 0.102242144096 0.0685990226888 0.077327411451\n",
      "41 62 Medical_History_5 Medical_History_27 0.105100332675 0.0685990226888 0.0845952349846\n",
      "41 75 Medical_History_5 Medical_History_40 0.146297471028 0.0685990226888 0.131518604359\n",
      "42 51 Medical_History_6 Medical_History_16 0.191463743138 0.159230022306 0.137541553857\n",
      "42 53 Medical_History_6 Medical_History_18 0.178659865307 0.159230022306 0.0908244855891\n",
      "42 63 Medical_History_6 Medical_History_28 0.180864646441 0.159230022306 0.0928838576851\n",
      "42 65 Medical_History_6 Medical_History_30 0.188558252977 0.159230022306 0.114870466736\n",
      "42 77 Medical_History_6 Medical_Keyword_1 0.176892486774 0.159230022306 0.0892329332297\n",
      "42 99 Medical_History_6 Medical_Keyword_23 0.19367247954 0.159230022306 0.113580450657\n",
      "42 101 Medical_History_6 Medical_Keyword_25 0.180820595349 0.159230022306 0.102022672014\n",
      "42 118 Medical_History_6 Medical_Keyword_42 0.179275189747 0.159230022306 0.0936730515721\n",
      "45 63 Medical_History_9 Medical_History_28 0.102713835362 0.0672357610466 0.0928838576851\n",
      "48 62 Medical_History_12 Medical_History_27 0.105256216755 0.0679200747056 0.0845952349846\n",
      "48 68 Medical_History_12 Medical_History_33 0.129068073 0.0679200747056 0.113111911437\n",
      "49 51 Medical_History_13 Medical_History_16 0.182587039179 0.13486342825 0.137541553857\n",
      "49 53 Medical_History_13 Medical_History_18 0.155007921693 0.13486342825 0.0908244855891\n",
      "49 63 Medical_History_13 Medical_History_28 0.154848706616 0.13486342825 0.0928838576851\n",
      "49 65 Medical_History_13 Medical_History_30 0.161759193179 0.13486342825 0.114870466736\n",
      "49 77 Medical_History_13 Medical_Keyword_1 0.152624270516 0.13486342825 0.0892329332297\n",
      "49 99 Medical_History_13 Medical_Keyword_23 0.164725380417 0.13486342825 0.113580450657\n",
      "49 101 Medical_History_13 Medical_Keyword_25 0.161722326935 0.13486342825 0.102022672014\n",
      "49 113 Medical_History_13 Medical_Keyword_37 0.151808555578 0.13486342825 0.0805884047724\n",
      "49 124 Medical_History_13 Medical_Keyword_48 0.175989995126 0.13486342825 0.159556636485\n",
      "52 62 Medical_History_16 Medical_History_27 0.153106464015 0.137541553857 0.0845952349846\n",
      "52 68 Medical_History_16 Medical_History_33 0.172611500007 0.137541553857 0.113111911437\n",
      "52 75 Medical_History_16 Medical_History_40 0.170643528453 0.137541553857 0.131518604359\n",
      "53 53 Medical_History_17 Medical_History_18 0.115238834241 0.0736331760181 0.0908244855891\n",
      "53 63 Medical_History_17 Medical_History_28 0.116044131232 0.0736331760181 0.0928838576851\n",
      "53 65 Medical_History_17 Medical_History_30 0.133933258145 0.0736331760181 0.114870466736\n",
      "53 77 Medical_History_17 Medical_Keyword_1 0.113110530118 0.0736331760181 0.0892329332297\n",
      "53 99 Medical_History_17 Medical_Keyword_23 0.133200385266 0.0736331760181 0.113580450657\n",
      "53 100 Medical_History_17 Medical_Keyword_24 0.102212321706 0.0736331760181 0.0720693752206\n",
      "53 101 Medical_History_17 Medical_Keyword_25 0.12266742795 0.0736331760181 0.102022672014\n",
      "53 113 Medical_History_17 Medical_Keyword_37 0.105185957421 0.0736331760181 0.0805884047724\n",
      "53 114 Medical_History_17 Medical_Keyword_38 0.108756948121 0.0736331760181 0.0933767850269\n",
      "53 116 Medical_History_17 Medical_Keyword_40 0.103237782585 0.0736331760181 0.0771593949839\n",
      "53 118 Medical_History_17 Medical_Keyword_42 0.116779592388 0.0736331760181 0.0936730515721\n",
      "54 55 Medical_History_18 Medical_History_20 0.115328920145 0.0908244855891 0.077327411451\n",
      "54 57 Medical_History_18 Medical_History_22 0.101138648962 0.0908244855891 0.0479057029117\n",
      "54 62 Medical_History_18 Medical_History_27 0.121712872459 0.0908244855891 0.0845952349846\n",
      "54 66 Medical_History_18 Medical_History_31 0.100368484876 0.0908244855891 0.0469124459472\n",
      "54 68 Medical_History_18 Medical_History_33 0.137365604338 0.0908244855891 0.113111911437\n",
      "54 75 Medical_History_18 Medical_History_40 0.158551537567 0.0908244855891 0.131518604359\n",
      "56 63 Medical_History_20 Medical_History_28 0.115280607575 0.077327411451 0.0928838576851\n",
      "56 65 Medical_History_20 Medical_History_30 0.137751034115 0.077327411451 0.114870466736\n",
      "56 77 Medical_History_20 Medical_Keyword_1 0.113865066536 0.077327411451 0.0892329332297\n",
      "56 99 Medical_History_20 Medical_Keyword_23 0.134405817769 0.077327411451 0.113580450657\n",
      "56 100 Medical_History_20 Medical_Keyword_24 0.105026719501 0.077327411451 0.0720693752206\n",
      "56 101 Medical_History_20 Medical_Keyword_25 0.123785486364 0.077327411451 0.102022672014\n",
      "56 113 Medical_History_20 Medical_Keyword_37 0.104336326089 0.077327411451 0.0805884047724\n",
      "56 114 Medical_History_20 Medical_Keyword_38 0.116613932109 0.077327411451 0.0933767850269\n",
      "56 116 Medical_History_20 Medical_Keyword_40 0.102149765985 0.077327411451 0.0771593949839\n",
      "56 118 Medical_History_20 Medical_Keyword_42 0.11751382017 0.077327411451 0.0936730515721\n",
      "56 124 Medical_History_20 Medical_Keyword_48 0.175668195579 0.077327411451 0.159556636485\n",
      "58 63 Medical_History_22 Medical_History_28 0.103388590312 0.0479057029117 0.0928838576851\n",
      "58 118 Medical_History_22 Medical_Keyword_42 0.103554901434 0.0479057029117 0.0936730515721\n",
      "59 79 Medical_History_23 Medical_Keyword_3 0.326649503652 0.286584108716 0.25770596011\n",
      "63 63 Medical_History_27 Medical_History_28 0.123354732291 0.0845952349846 0.0928838576851\n",
      "63 65 Medical_History_27 Medical_History_30 0.139630947962 0.0845952349846 0.114870466736\n",
      "63 77 Medical_History_27 Medical_Keyword_1 0.12153357086 0.0845952349846 0.0892329332297\n",
      "63 99 Medical_History_27 Medical_Keyword_23 0.140937325988 0.0845952349846 0.113580450657\n",
      "63 100 Medical_History_27 Medical_Keyword_24 0.109473546646 0.0845952349846 0.0720693752206\n",
      "63 101 Medical_History_27 Medical_Keyword_25 0.126276401898 0.0845952349846 0.102022672014\n",
      "63 113 Medical_History_27 Medical_Keyword_37 0.112853843324 0.0845952349846 0.0805884047724\n",
      "63 114 Medical_History_27 Medical_Keyword_38 0.113681533836 0.0845952349846 0.0933767850269\n",
      "63 116 Medical_History_27 Medical_Keyword_40 0.113251890162 0.0845952349846 0.0771593949839\n",
      "63 118 Medical_History_27 Medical_Keyword_42 0.124701333102 0.0845952349846 0.0936730515721\n",
      "63 123 Medical_History_27 Medical_Keyword_47 0.101756384811 0.0845952349846 0.0601043297699\n",
      "64 68 Medical_History_28 Medical_History_33 0.138835551401 0.0928838576851 0.113111911437\n",
      "64 75 Medical_History_28 Medical_History_40 0.156851823192 0.0928838576851 0.131518604359\n",
      "66 68 Medical_History_30 Medical_History_33 0.143521854599 0.114870466736 0.113111911437\n",
      "66 74 Medical_History_30 Medical_History_39 0.243835261531 0.114870466736 0.22017593863\n",
      "66 75 Medical_History_30 Medical_History_40 0.174678290544 0.114870466736 0.131518604359\n",
      "69 77 Medical_History_33 Medical_Keyword_1 0.135334366854 0.113111911437 0.0892329332297\n",
      "69 100 Medical_History_33 Medical_Keyword_24 0.125659758698 0.113111911437 0.0720693752206\n",
      "69 101 Medical_History_33 Medical_Keyword_25 0.146302043605 0.113111911437 0.102022672014\n",
      "69 113 Medical_History_33 Medical_Keyword_37 0.134169927763 0.113111911437 0.0805884047724\n",
      "69 114 Medical_History_33 Medical_Keyword_38 0.124893104056 0.113111911437 0.0933767850269\n",
      "69 116 Medical_History_33 Medical_Keyword_40 0.131196544342 0.113111911437 0.0771593949839\n",
      "69 118 Medical_History_33 Medical_Keyword_42 0.135450857 0.113111911437 0.0936730515721\n",
      "75 91 Medical_History_39 Medical_Keyword_15 0.304604149147 0.22017593863 0.259168855555\n",
      "75 99 Medical_History_39 Medical_Keyword_23 0.249403423037 0.22017593863 0.113580450657\n",
      "75 124 Medical_History_39 Medical_Keyword_48 0.255704794373 0.22017593863 0.159556636485\n",
      "76 77 Medical_History_40 Medical_Keyword_1 0.157334466894 0.131518604359 0.0892329332297\n",
      "76 91 Medical_History_40 Medical_Keyword_15 0.287431835857 0.131518604359 0.259168855555\n",
      "76 99 Medical_History_40 Medical_Keyword_23 0.157548304039 0.131518604359 0.113580450657\n",
      "76 100 Medical_History_40 Medical_Keyword_24 0.148585032525 0.131518604359 0.0720693752206\n",
      "76 101 Medical_History_40 Medical_Keyword_25 0.163270971745 0.131518604359 0.102022672014\n",
      "76 113 Medical_History_40 Medical_Keyword_37 0.148662179561 0.131518604359 0.0805884047724\n",
      "76 114 Medical_History_40 Medical_Keyword_38 0.153751979243 0.131518604359 0.0933767850269\n",
      "76 116 Medical_History_40 Medical_Keyword_40 0.146533068549 0.131518604359 0.0771593949839\n",
      "76 118 Medical_History_40 Medical_Keyword_42 0.156281764905 0.131518604359 0.0936730515721\n",
      "76 124 Medical_History_40 Medical_Keyword_48 0.203058288577 0.131518604359 0.159556636485\n"
     ]
    }
   ],
   "source": [
    "newfea=[]\n",
    "fea=[i for i in train.columns.values if i not in ['Id','Response']]\n",
    "for c,i in enumerate(fea[:-1]):\n",
    "    for d,j in enumerate(fea[c+1:]):\n",
    "        cc=abs(pearsonr(train[i]-train[j],train.Response)[0])\n",
    "        if cc>cmap[i]*1.1 and cc>cmap[j]*1.1 and cc>0.1:\n",
    "            train['%s_%s'%(i,j)]=train[i]-train[j]\n",
    "            print c,c+d,i,j,cc,cmap[i],cmap[j]\n",
    "            newfea.append('%s_%s'%(i,j))"
   ]
  },
  {
   "cell_type": "code",
   "execution_count": 7,
   "metadata": {
    "collapsed": false
   },
   "outputs": [],
   "source": [
    "train[newfea].to_csv('train2.csv',index=False)"
   ]
  },
  {
   "cell_type": "code",
   "execution_count": 8,
   "metadata": {
    "collapsed": false
   },
   "outputs": [
    {
     "data": {
      "text/plain": [
       "(59381, 190)"
      ]
     },
     "execution_count": 8,
     "metadata": {},
     "output_type": "execute_result"
    }
   ],
   "source": [
    "train[newfea].shape"
   ]
  },
  {
   "cell_type": "code",
   "execution_count": null,
   "metadata": {
    "collapsed": true
   },
   "outputs": [],
   "source": []
  }
 ],
 "metadata": {
  "kernelspec": {
   "display_name": "Python 2",
   "language": "python",
   "name": "python2"
  },
  "language_info": {
   "codemirror_mode": {
    "name": "ipython",
    "version": 2
   },
   "file_extension": ".py",
   "mimetype": "text/x-python",
   "name": "python",
   "nbconvert_exporter": "python",
   "pygments_lexer": "ipython2",
   "version": "2.7.6"
  }
 },
 "nbformat": 4,
 "nbformat_minor": 0
}
